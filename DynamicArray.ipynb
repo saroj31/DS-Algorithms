{
 "cells": [
  {
   "cell_type": "code",
   "execution_count": 3,
   "metadata": {
    "collapsed": false,
    "deletable": true,
    "editable": true
   },
   "outputs": [],
   "source": [
    "#Dynamic Arrays Class in python\n",
    "import ctypes\n",
    "\n",
    "class DynamicArrary(object):\n",
    "    \n",
    "    def __init__(self):\n",
    "        #print(\"init is being called\")\n",
    "        self.n = 0\n",
    "        self.capacity = 1\n",
    "        self.A = self.make_array(self.capacity)\n",
    "        \n",
    "        \n",
    "    def __len__(self):\n",
    "        #print('length is being called')\n",
    "        return self.n\n",
    "            \n",
    "    def __getitem__(self,k):\n",
    "        #print(\"You won't be able to Tab to see me!\")\n",
    "        \n",
    "        if not 0 <= k < self.n:\n",
    "            return IndexError(\"k is out of bound\")\n",
    "        \n",
    "        return self.A[k]\n",
    "    \n",
    "    def append(self,ele):\n",
    "        #print(\"append is being called\")\n",
    "        \n",
    "        if self.n == self.capacity:\n",
    "            self._resize(2*self.capacity)\n",
    "            \n",
    "        self.A[self.n] = ele\n",
    "        self.n += 1\n",
    "        \n",
    "    def _resize(self,newMax):\n",
    "        \n",
    "        B = self.make_array(newMax)\n",
    "        \n",
    "        for k in range(self.n):\n",
    "            B[k] = self.A[k]\n",
    "            \n",
    "        self.A = B\n",
    "        self.capacity = newMax\n",
    "            \n",
    "            \n",
    "    def make_array(self,newMax):\n",
    "        #print(\"make_array is being called\")\n",
    "        return (newMax * ctypes.py_object)()\n"
   ]
  },
  {
   "cell_type": "code",
   "execution_count": 11,
   "metadata": {
    "collapsed": false,
    "deletable": true,
    "editable": true
   },
   "outputs": [
    {
     "name": "stdout",
     "output_type": "stream",
     "text": [
      "length = 1 capacity = 1\n",
      "length = 2 capacity = 2\n",
      "length = 3 capacity = 4\n"
     ]
    }
   ],
   "source": [
    "#testing\n",
    "arr = DynamicArrary()\n",
    "\n",
    "arr.append(1)\n",
    "print(\"length = {} capacity = {}\".format(len(arr),arr.capacity))\n",
    "arr.append(2)\n",
    "print(\"length = {} capacity = {}\".format(len(arr),arr.capacity))\n",
    "arr.append(3)\n",
    "print(\"length = {} capacity = {}\".format(len(arr),arr.capacity))\n"
   ]
  }
 ],
 "metadata": {
  "kernelspec": {
   "display_name": "Python 3",
   "language": "python",
   "name": "python3"
  },
  "language_info": {
   "codemirror_mode": {
    "name": "ipython",
    "version": 3
   },
   "file_extension": ".py",
   "mimetype": "text/x-python",
   "name": "python",
   "nbconvert_exporter": "python",
   "pygments_lexer": "ipython3",
   "version": "3.5.3"
  }
 },
 "nbformat": 4,
 "nbformat_minor": 2
}
